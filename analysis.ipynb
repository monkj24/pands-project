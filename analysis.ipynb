{
 "cells": [
  {
   "cell_type": "markdown",
   "id": "723d4a5e",
   "metadata": {},
   "source": [
    "# The Iris Data Set"
   ]
  },
  {
   "cell_type": "markdown",
   "id": "dd1ee7c7",
   "metadata": {},
   "source": [
    "Author: Joanna Mnich"
   ]
  },
  {
   "cell_type": "markdown",
   "id": "a7e7a210",
   "metadata": {},
   "source": [
    "### 1. Source the Data Set"
   ]
  },
  {
   "cell_type": "markdown",
   "id": "e27dbc14",
   "metadata": {
    "vscode": {
     "languageId": "plaintext"
    }
   },
   "source": [
    "The Iris dataset was loaded using url from UC Irvine Machine Learning Repository archive.\n",
    "\n",
    "***Load the Iris dataset.***\n",
    "\n",
    "- load_iris() is the path to the location of the dataset file\n",
    "\n",
    "- uploaded data is stored in zip file in library\n",
    "\n",
    "- function return with iris data"
   ]
  },
  {
   "cell_type": "code",
   "execution_count": 2,
   "id": "355f0394",
   "metadata": {},
   "outputs": [
    {
     "name": "stdout",
     "output_type": "stream",
     "text": [
      "3.10.1\n"
     ]
    }
   ],
   "source": [
    "# DataFrame library\n",
    "import pandas as pd\n",
    "\n",
    "# Machine learning dataset access\n",
    "from ucimlrepo import fetch_ucirepo\n",
    "\n",
    "# Plotting \n",
    "import matplotlib\n",
    "print(matplotlib.__version__)\n"
   ]
  },
  {
   "cell_type": "markdown",
   "id": "94ac93bf",
   "metadata": {},
   "source": [
    "Data is in folder zipped , so first I download url, than unzip folder and load the data. AI helps me with zip folder, how to download to jupiter notebook.\n",
    "\n",
    "https://chatgpt.com/c/6811efe4-c4a8-800b-990e-158517f9b587\n",
    "\n",
    "https://chatgpt.com/c/6811f2d3-cddc-800b-a3fc-69d7786220f4  # resolve error problems\n"
   ]
  },
  {
   "cell_type": "code",
   "execution_count": 6,
   "id": "eab78f2b",
   "metadata": {},
   "outputs": [
    {
     "name": "stdout",
     "output_type": "stream",
     "text": [
      "   sepal_length  sepal_width  petal_length  petal_width        class\n",
      "0           5.1          3.5           1.4          0.2  Iris-setosa\n",
      "1           4.9          3.0           1.4          0.2  Iris-setosa\n",
      "2           4.7          3.2           1.3          0.2  Iris-setosa\n",
      "3           4.6          3.1           1.5          0.2  Iris-setosa\n",
      "4           5.0          3.6           1.4          0.2  Iris-setosa\n"
     ]
    }
   ],
   "source": [
    "# Download the dataset URL\n",
    "url = 'https://archive.ics.uci.edu/ml/machine-learning-databases/iris/iris.data'\n",
    "\n",
    "# Define column names based on the dataset description\n",
    "column_names = ['sepal_length', 'sepal_width', 'petal_length', 'petal_width', 'class']\n",
    "\n",
    "# Load into a DataFrame\n",
    "df = pd.read_csv(url, names=column_names)\n",
    "\n",
    "# Display the first few rows\n",
    "print(df.head())\n"
   ]
  }
 ],
 "metadata": {
  "kernelspec": {
   "display_name": "Python 3",
   "language": "python",
   "name": "python3"
  },
  "language_info": {
   "codemirror_mode": {
    "name": "ipython",
    "version": 3
   },
   "file_extension": ".py",
   "mimetype": "text/x-python",
   "name": "python",
   "nbconvert_exporter": "python",
   "pygments_lexer": "ipython3",
   "version": "3.12.1"
  }
 },
 "nbformat": 4,
 "nbformat_minor": 5
}
